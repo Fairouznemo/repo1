{
 "cells": [
  {
   "cell_type": "code",
   "execution_count": null,
   "id": "8a19880a",
   "metadata": {},
   "outputs": [],
   "source": [
    "#ROCK SCissor paper game \n",
    "\n",
    "user1= input(\"User1 Please enter your value : rock-scissor-paper:  \")\n",
    "user2 =input(\"User2 Please enter your value : rock-scissor-paper:  \")\n",
    "var1=user1+user2\n",
    "var2=user2+user1\n",
    "\n",
    "list1=[\"rockscissor\",\"rockpaper\",\"scissorpaper\"]\n",
    "if var1==list1[0] or var2==list1[0] :\n",
    "        print(\"ROCK IS WIN\")\n",
    "        \n",
    "elif var1==list1[1] or var2==list1[1] :\n",
    "             print(\"PAPER IS WIN\")\n",
    "elif var1==list1[2] or var2==list1[2] :\n",
    "              print(\"SCISSOR IS WIN\")\n",
    "else: \n",
    "        print (\"invalid choice,please try again\")\n",
    "        \n",
    "    \n",
    "    "
   ]
  },
  {
   "cell_type": "code",
   "execution_count": null,
   "id": "97e4d1ec",
   "metadata": {},
   "outputs": [],
   "source": []
  },
  {
   "cell_type": "code",
   "execution_count": null,
   "id": "6dde7e13",
   "metadata": {},
   "outputs": [],
   "source": []
  },
  {
   "cell_type": "code",
   "execution_count": null,
   "id": "c600406a",
   "metadata": {},
   "outputs": [],
   "source": []
  },
  {
   "cell_type": "code",
   "execution_count": null,
   "id": "08c3db86",
   "metadata": {},
   "outputs": [],
   "source": []
  },
  {
   "cell_type": "code",
   "execution_count": null,
   "id": "fc05f108",
   "metadata": {},
   "outputs": [],
   "source": []
  },
  {
   "cell_type": "code",
   "execution_count": null,
   "id": "b30edc83",
   "metadata": {},
   "outputs": [],
   "source": []
  }
 ],
 "metadata": {
  "kernelspec": {
   "display_name": "Python 3 (ipykernel)",
   "language": "python",
   "name": "python3"
  },
  "language_info": {
   "codemirror_mode": {
    "name": "ipython",
    "version": 3
   },
   "file_extension": ".py",
   "mimetype": "text/x-python",
   "name": "python",
   "nbconvert_exporter": "python",
   "pygments_lexer": "ipython3",
   "version": "3.9.13"
  }
 },
 "nbformat": 4,
 "nbformat_minor": 5
}
