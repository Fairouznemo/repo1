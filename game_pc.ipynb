{
 "cells": [
  {
   "cell_type": "code",
   "execution_count": null,
   "id": "873d5a06",
   "metadata": {},
   "outputs": [],
   "source": [
    "#ROCK SCissor paper game pc \n",
    "import random\n",
    "\n",
    "user= input(\"User1 Please enter your value : rock-scissor-paper:  \")\n",
    "list1=[\"rock\",\"scissor\",\"paper\"]\n",
    "pc=random.choice(list1)\n",
    "print (\"PC Valus is : \",pc)\n",
    "var1=user+pc\n",
    "var2=pc+user\n",
    "\n",
    "list1=[\"rockscissor\",\"rockpaper\",\"scissorpaper\"]\n",
    "if var1==list1[0] or var2==list1[0] :\n",
    "        print(\"ROCK IS WIN\")\n",
    "        \n",
    "elif var1==list1[1] or var2==list1[1] :\n",
    "             print(\"PAPER IS WIN\")\n",
    "elif var1==list1[2] or var2==list1[2] :\n",
    "              print(\"SCISSOR IS WIN\")\n",
    "else: \n",
    "        print (\"Identical choices,please try again\")\n",
    "        \n",
    "    \n",
    "    "
   ]
  },
  {
   "cell_type": "code",
   "execution_count": null,
   "id": "cdf8626c",
   "metadata": {},
   "outputs": [],
   "source": []
  },
  {
   "cell_type": "code",
   "execution_count": null,
   "id": "ee1643f6",
   "metadata": {},
   "outputs": [],
   "source": []
  },
  {
   "cell_type": "code",
   "execution_count": null,
   "id": "712da398",
   "metadata": {},
   "outputs": [],
   "source": []
  }
 ],
 "metadata": {
  "kernelspec": {
   "display_name": "Python 3 (ipykernel)",
   "language": "python",
   "name": "python3"
  },
  "language_info": {
   "codemirror_mode": {
    "name": "ipython",
    "version": 3
   },
   "file_extension": ".py",
   "mimetype": "text/x-python",
   "name": "python",
   "nbconvert_exporter": "python",
   "pygments_lexer": "ipython3",
   "version": "3.9.13"
  }
 },
 "nbformat": 4,
 "nbformat_minor": 5
}
